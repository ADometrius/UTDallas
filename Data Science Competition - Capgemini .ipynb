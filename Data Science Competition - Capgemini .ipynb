{
 "cells": [
  {
   "cell_type": "markdown",
   "metadata": {},
   "source": [
    "# Data Science Competition - Capgemini "
   ]
  },
  {
   "cell_type": "markdown",
   "metadata": {},
   "source": [
    "## Alex Dometrius, Andrew Romano, Nader Ahmed"
   ]
  },
  {
   "cell_type": "markdown",
   "metadata": {},
   "source": [
    "### The University of Texas at Dallas \n",
    "### ITSS 4353 - Dr. Kelly Slaughter \n",
    "### Fall 2016"
   ]
  },
  {
   "cell_type": "markdown",
   "metadata": {},
   "source": [
    "#### Below is a selection of models built for the competition. The goal of this competition is to develop a classification model to predict whether a well is running or not given a set of well attributes.Our group used R to explore and tidy the data before bringing it into this notebook. The intent of this notebook is to provide a condensed understanding of our group's findings. Enjoy!"
   ]
  },
  {
   "cell_type": "markdown",
   "metadata": {},
   "source": [
    "Note: the use of the following imports are required to view everything in this notebook:\n",
    "ggplot, which can be installed using the following in the command prompt: \"conda install -c conda-forge ggplot\""
   ]
  },
  {
   "cell_type": "code",
   "execution_count": 21,
   "metadata": {
    "collapsed": false
   },
   "outputs": [],
   "source": [
    "import pandas as pd\n",
    "import numpy as np\n",
    "import matplotlib.pyplot as plt\n",
    "from ggplot import *\n",
    "import matplotlib as mpl"
   ]
  },
  {
   "cell_type": "markdown",
   "metadata": {},
   "source": [
    "##### Import the data in xlsx format. \"capgemdata\" is the original dataset without manipulation."
   ]
  },
  {
   "cell_type": "code",
   "execution_count": 23,
   "metadata": {
    "collapsed": false
   },
   "outputs": [
    {
     "data": {
      "text/html": [
       "<div>\n",
       "<table border=\"1\" class=\"dataframe\">\n",
       "  <thead>\n",
       "    <tr style=\"text-align: right;\">\n",
       "      <th></th>\n",
       "      <th>well.id</th>\n",
       "      <th>field</th>\n",
       "      <th>block</th>\n",
       "      <th>esp.sr.no</th>\n",
       "      <th>vendor</th>\n",
       "      <th>depth</th>\n",
       "      <th>bean</th>\n",
       "      <th>perf</th>\n",
       "      <th>date.install</th>\n",
       "      <th>water.cut</th>\n",
       "      <th>...</th>\n",
       "      <th>region</th>\n",
       "      <th>time</th>\n",
       "      <th>Ti.C</th>\n",
       "      <th>Pi.Psia</th>\n",
       "      <th>Vx.g</th>\n",
       "      <th>Vy.g</th>\n",
       "      <th>Tm.C</th>\n",
       "      <th>MOR.Ohm</th>\n",
       "      <th>Lc.mA</th>\n",
       "      <th>Lv.V</th>\n",
       "    </tr>\n",
       "  </thead>\n",
       "  <tbody>\n",
       "    <tr>\n",
       "      <th>0</th>\n",
       "      <td>SS-A</td>\n",
       "      <td>SIRHAN</td>\n",
       "      <td>A1</td>\n",
       "      <td>ESP001</td>\n",
       "      <td>Vendor 1</td>\n",
       "      <td>2370</td>\n",
       "      <td>4.5</td>\n",
       "      <td>1895- 1997</td>\n",
       "      <td>1998-01-10</td>\n",
       "      <td>0.38</td>\n",
       "      <td>...</td>\n",
       "      <td>US</td>\n",
       "      <td>00:01:00</td>\n",
       "      <td>0.229064</td>\n",
       "      <td>22.226368</td>\n",
       "      <td>1533.026751</td>\n",
       "      <td>48.425831</td>\n",
       "      <td>0.845257</td>\n",
       "      <td>29.616</td>\n",
       "      <td>255</td>\n",
       "      <td>0.684238</td>\n",
       "    </tr>\n",
       "    <tr>\n",
       "      <th>1</th>\n",
       "      <td>SS-B</td>\n",
       "      <td>SIRHAN</td>\n",
       "      <td>B1</td>\n",
       "      <td>ESP002</td>\n",
       "      <td>Vendor 2</td>\n",
       "      <td>1740</td>\n",
       "      <td>4.5</td>\n",
       "      <td>1395- 1433</td>\n",
       "      <td>2005-11-04</td>\n",
       "      <td>0.34</td>\n",
       "      <td>...</td>\n",
       "      <td>US</td>\n",
       "      <td>00:01:00</td>\n",
       "      <td>0.229064</td>\n",
       "      <td>22.226368</td>\n",
       "      <td>1533.026751</td>\n",
       "      <td>48.425831</td>\n",
       "      <td>0.845257</td>\n",
       "      <td>29.616</td>\n",
       "      <td>255</td>\n",
       "      <td>0.684238</td>\n",
       "    </tr>\n",
       "    <tr>\n",
       "      <th>2</th>\n",
       "      <td>SS-C101</td>\n",
       "      <td>SIRHAN</td>\n",
       "      <td>C1</td>\n",
       "      <td>ESP003</td>\n",
       "      <td>Vendor 1</td>\n",
       "      <td>1995</td>\n",
       "      <td>10.0</td>\n",
       "      <td>1427-1479</td>\n",
       "      <td>2003-01-31</td>\n",
       "      <td>0.40</td>\n",
       "      <td>...</td>\n",
       "      <td>US</td>\n",
       "      <td>00:01:00</td>\n",
       "      <td>0.229064</td>\n",
       "      <td>22.226368</td>\n",
       "      <td>1533.026751</td>\n",
       "      <td>48.425831</td>\n",
       "      <td>0.845257</td>\n",
       "      <td>29.616</td>\n",
       "      <td>255</td>\n",
       "      <td>0.684238</td>\n",
       "    </tr>\n",
       "    <tr>\n",
       "      <th>3</th>\n",
       "      <td>SS-C102</td>\n",
       "      <td>SIRHAN</td>\n",
       "      <td>A1</td>\n",
       "      <td>ESP004</td>\n",
       "      <td>Vendor 3</td>\n",
       "      <td>1790</td>\n",
       "      <td>5.0</td>\n",
       "      <td>1424-1480</td>\n",
       "      <td>2004-09-07</td>\n",
       "      <td>0.55</td>\n",
       "      <td>...</td>\n",
       "      <td>US</td>\n",
       "      <td>00:01:00</td>\n",
       "      <td>0.229064</td>\n",
       "      <td>22.226368</td>\n",
       "      <td>1533.026751</td>\n",
       "      <td>48.425831</td>\n",
       "      <td>0.845257</td>\n",
       "      <td>29.616</td>\n",
       "      <td>255</td>\n",
       "      <td>0.684238</td>\n",
       "    </tr>\n",
       "    <tr>\n",
       "      <th>4</th>\n",
       "      <td>SS-C103</td>\n",
       "      <td>SIRHAN</td>\n",
       "      <td>B1</td>\n",
       "      <td>ESP005</td>\n",
       "      <td>Vendor 1</td>\n",
       "      <td>2140</td>\n",
       "      <td>10.0</td>\n",
       "      <td>1442 – 1492</td>\n",
       "      <td>2009-04-11</td>\n",
       "      <td>0.55</td>\n",
       "      <td>...</td>\n",
       "      <td>US</td>\n",
       "      <td>00:01:00</td>\n",
       "      <td>0.229064</td>\n",
       "      <td>22.226368</td>\n",
       "      <td>1533.026751</td>\n",
       "      <td>48.425831</td>\n",
       "      <td>0.845257</td>\n",
       "      <td>29.616</td>\n",
       "      <td>255</td>\n",
       "      <td>0.684238</td>\n",
       "    </tr>\n",
       "  </tbody>\n",
       "</table>\n",
       "<p>5 rows × 26 columns</p>\n",
       "</div>"
      ],
      "text/plain": [
       "   well.id   field block esp.sr.no    vendor  depth  bean         perf  \\\n",
       "0     SS-A  SIRHAN    A1    ESP001  Vendor 1   2370   4.5   1895- 1997   \n",
       "1     SS-B  SIRHAN    B1    ESP002  Vendor 2   1740   4.5   1395- 1433   \n",
       "2  SS-C101  SIRHAN    C1    ESP003  Vendor 1   1995  10.0    1427-1479   \n",
       "3  SS-C102  SIRHAN    A1    ESP004  Vendor 3   1790   5.0    1424-1480   \n",
       "4  SS-C103  SIRHAN    B1    ESP005  Vendor 1   2140  10.0  1442 – 1492   \n",
       "\n",
       "  date.install  water.cut    ...     region      time      Ti.C    Pi.Psia  \\\n",
       "0   1998-01-10       0.38    ...         US  00:01:00  0.229064  22.226368   \n",
       "1   2005-11-04       0.34    ...         US  00:01:00  0.229064  22.226368   \n",
       "2   2003-01-31       0.40    ...         US  00:01:00  0.229064  22.226368   \n",
       "3   2004-09-07       0.55    ...         US  00:01:00  0.229064  22.226368   \n",
       "4   2009-04-11       0.55    ...         US  00:01:00  0.229064  22.226368   \n",
       "\n",
       "          Vx.g       Vy.g      Tm.C MOR.Ohm  Lc.mA      Lv.V  \n",
       "0  1533.026751  48.425831  0.845257  29.616    255  0.684238  \n",
       "1  1533.026751  48.425831  0.845257  29.616    255  0.684238  \n",
       "2  1533.026751  48.425831  0.845257  29.616    255  0.684238  \n",
       "3  1533.026751  48.425831  0.845257  29.616    255  0.684238  \n",
       "4  1533.026751  48.425831  0.845257  29.616    255  0.684238  \n",
       "\n",
       "[5 rows x 26 columns]"
      ]
     },
     "execution_count": 23,
     "metadata": {},
     "output_type": "execute_result"
    }
   ],
   "source": [
    "capgemdata = pd.read_excel(\"final.esp.xlsx\")\n",
    "capgemdata.head()"
   ]
  },
  {
   "cell_type": "markdown",
   "metadata": {},
   "source": [
    "##### cleanishdata is the data downloaded from R after we have performed some mutations on the dataframe."
   ]
  },
  {
   "cell_type": "code",
   "execution_count": 24,
   "metadata": {
    "collapsed": false
   },
   "outputs": [
    {
     "data": {
      "text/html": [
       "<div>\n",
       "<table border=\"1\" class=\"dataframe\">\n",
       "  <thead>\n",
       "    <tr style=\"text-align: right;\">\n",
       "      <th></th>\n",
       "      <th>well.id</th>\n",
       "      <th>field</th>\n",
       "      <th>block</th>\n",
       "      <th>esp.sr.no</th>\n",
       "      <th>vendor</th>\n",
       "      <th>depth</th>\n",
       "      <th>bean</th>\n",
       "      <th>perf</th>\n",
       "      <th>date.install</th>\n",
       "      <th>water.cut</th>\n",
       "      <th>...</th>\n",
       "      <th>time</th>\n",
       "      <th>Ti.C</th>\n",
       "      <th>Pi.Psia</th>\n",
       "      <th>Vx.g</th>\n",
       "      <th>Vy.g</th>\n",
       "      <th>Tm.C</th>\n",
       "      <th>MOR.Ohm</th>\n",
       "      <th>Lv.V</th>\n",
       "      <th>perf.variance</th>\n",
       "      <th>days.since.install</th>\n",
       "    </tr>\n",
       "  </thead>\n",
       "  <tbody>\n",
       "    <tr>\n",
       "      <th>1</th>\n",
       "      <td>SS-A</td>\n",
       "      <td>SIRHAN</td>\n",
       "      <td>A1</td>\n",
       "      <td>ESP001</td>\n",
       "      <td>Vendor 1</td>\n",
       "      <td>2370</td>\n",
       "      <td>4.5</td>\n",
       "      <td>1895- 1997</td>\n",
       "      <td>1998-01-10</td>\n",
       "      <td>0.38</td>\n",
       "      <td>...</td>\n",
       "      <td>00:01:00</td>\n",
       "      <td>0.229064</td>\n",
       "      <td>22.226368</td>\n",
       "      <td>1533.026751</td>\n",
       "      <td>48.425831</td>\n",
       "      <td>0.845257</td>\n",
       "      <td>29.616</td>\n",
       "      <td>0.684238</td>\n",
       "      <td>102</td>\n",
       "      <td>6839</td>\n",
       "    </tr>\n",
       "    <tr>\n",
       "      <th>2</th>\n",
       "      <td>SS-B</td>\n",
       "      <td>SIRHAN</td>\n",
       "      <td>B1</td>\n",
       "      <td>ESP002</td>\n",
       "      <td>Vendor 2</td>\n",
       "      <td>1740</td>\n",
       "      <td>4.5</td>\n",
       "      <td>1395- 1433</td>\n",
       "      <td>2005-11-04</td>\n",
       "      <td>0.34</td>\n",
       "      <td>...</td>\n",
       "      <td>00:01:00</td>\n",
       "      <td>0.229064</td>\n",
       "      <td>22.226368</td>\n",
       "      <td>1533.026751</td>\n",
       "      <td>48.425831</td>\n",
       "      <td>0.845257</td>\n",
       "      <td>29.616</td>\n",
       "      <td>0.684238</td>\n",
       "      <td>38</td>\n",
       "      <td>3984</td>\n",
       "    </tr>\n",
       "    <tr>\n",
       "      <th>3</th>\n",
       "      <td>SS-C101</td>\n",
       "      <td>SIRHAN</td>\n",
       "      <td>C1</td>\n",
       "      <td>ESP003</td>\n",
       "      <td>Vendor 1</td>\n",
       "      <td>1995</td>\n",
       "      <td>10.0</td>\n",
       "      <td>1427-1479</td>\n",
       "      <td>2003-01-31</td>\n",
       "      <td>0.40</td>\n",
       "      <td>...</td>\n",
       "      <td>00:01:00</td>\n",
       "      <td>0.229064</td>\n",
       "      <td>22.226368</td>\n",
       "      <td>1533.026751</td>\n",
       "      <td>48.425831</td>\n",
       "      <td>0.845257</td>\n",
       "      <td>29.616</td>\n",
       "      <td>0.684238</td>\n",
       "      <td>52</td>\n",
       "      <td>4992</td>\n",
       "    </tr>\n",
       "    <tr>\n",
       "      <th>4</th>\n",
       "      <td>SS-C102</td>\n",
       "      <td>SIRHAN</td>\n",
       "      <td>A1</td>\n",
       "      <td>ESP004</td>\n",
       "      <td>Vendor 3</td>\n",
       "      <td>1790</td>\n",
       "      <td>5.0</td>\n",
       "      <td>1424-1480</td>\n",
       "      <td>2004-09-07</td>\n",
       "      <td>0.55</td>\n",
       "      <td>...</td>\n",
       "      <td>00:01:00</td>\n",
       "      <td>0.229064</td>\n",
       "      <td>22.226368</td>\n",
       "      <td>1533.026751</td>\n",
       "      <td>48.425831</td>\n",
       "      <td>0.845257</td>\n",
       "      <td>29.616</td>\n",
       "      <td>0.684238</td>\n",
       "      <td>56</td>\n",
       "      <td>4407</td>\n",
       "    </tr>\n",
       "    <tr>\n",
       "      <th>5</th>\n",
       "      <td>SS-C103</td>\n",
       "      <td>SIRHAN</td>\n",
       "      <td>B1</td>\n",
       "      <td>ESP005</td>\n",
       "      <td>Vendor 1</td>\n",
       "      <td>2140</td>\n",
       "      <td>10.0</td>\n",
       "      <td>1442 – 1492</td>\n",
       "      <td>2009-04-11</td>\n",
       "      <td>0.55</td>\n",
       "      <td>...</td>\n",
       "      <td>00:01:00</td>\n",
       "      <td>0.229064</td>\n",
       "      <td>22.226368</td>\n",
       "      <td>1533.026751</td>\n",
       "      <td>48.425831</td>\n",
       "      <td>0.845257</td>\n",
       "      <td>29.616</td>\n",
       "      <td>0.684238</td>\n",
       "      <td>50</td>\n",
       "      <td>2730</td>\n",
       "    </tr>\n",
       "  </tbody>\n",
       "</table>\n",
       "<p>5 rows × 26 columns</p>\n",
       "</div>"
      ],
      "text/plain": [
       "   well.id   field block esp.sr.no    vendor  depth  bean         perf  \\\n",
       "1     SS-A  SIRHAN    A1    ESP001  Vendor 1   2370   4.5   1895- 1997   \n",
       "2     SS-B  SIRHAN    B1    ESP002  Vendor 2   1740   4.5   1395- 1433   \n",
       "3  SS-C101  SIRHAN    C1    ESP003  Vendor 1   1995  10.0    1427-1479   \n",
       "4  SS-C102  SIRHAN    A1    ESP004  Vendor 3   1790   5.0    1424-1480   \n",
       "5  SS-C103  SIRHAN    B1    ESP005  Vendor 1   2140  10.0  1442 – 1492   \n",
       "\n",
       "  date.install  water.cut         ...              time      Ti.C    Pi.Psia  \\\n",
       "1   1998-01-10       0.38         ...          00:01:00  0.229064  22.226368   \n",
       "2   2005-11-04       0.34         ...          00:01:00  0.229064  22.226368   \n",
       "3   2003-01-31       0.40         ...          00:01:00  0.229064  22.226368   \n",
       "4   2004-09-07       0.55         ...          00:01:00  0.229064  22.226368   \n",
       "5   2009-04-11       0.55         ...          00:01:00  0.229064  22.226368   \n",
       "\n",
       "          Vx.g       Vy.g      Tm.C MOR.Ohm      Lv.V  perf.variance  \\\n",
       "1  1533.026751  48.425831  0.845257  29.616  0.684238            102   \n",
       "2  1533.026751  48.425831  0.845257  29.616  0.684238             38   \n",
       "3  1533.026751  48.425831  0.845257  29.616  0.684238             52   \n",
       "4  1533.026751  48.425831  0.845257  29.616  0.684238             56   \n",
       "5  1533.026751  48.425831  0.845257  29.616  0.684238             50   \n",
       "\n",
       "   days.since.install  \n",
       "1                6839  \n",
       "2                3984  \n",
       "3                4992  \n",
       "4                4407  \n",
       "5                2730  \n",
       "\n",
       "[5 rows x 26 columns]"
      ]
     },
     "execution_count": 24,
     "metadata": {},
     "output_type": "execute_result"
    }
   ],
   "source": [
    "cleanishdata = pd.read_excel(\"cleanishdata.xlsx\")\n",
    "cleanishdata.head()"
   ]
  },
  {
   "cell_type": "markdown",
   "metadata": {},
   "source": [
    "##### Using R, we first began by searching for NA values. We discovered that only two columns contained all of the NA values: Region, and Ti.C. As Region contained only values that are US, we felt that it was simpler to remove this column all together. There were 200 rows with NA values in the Ti.C column which accounts for 0.3% of the total number of rows in the data set. We felt it would be simplest to remove the rows that contained the NA values. But, as curious data scientists, we also created a new dataframe that contained the Ti.C NA values that were changed to a stochastic average of the Ti.C column. After further review, this change had little to no effect on our results, so we continued with the former approach. \n",
    "\n",
    "##### Because we need a binomial variable for our classification methods, we have decided to change every status of \"warning\" to \"down\". We feel this is the best approach for two reasons:\n",
    "##### 1) We are trying to predict when a well is down. A warning status means that the well is already experiencing an issue, and therefore, already requires maintenance or observation.\n",
    "##### 2) When visualizing the data, there is already a large percentage of running status's. If we instead changed the warning status's to running, our model may overwhelmingly predict a running status, which inhibits our goal. "
   ]
  },
  {
   "cell_type": "markdown",
   "metadata": {},
   "source": [
    "### Here is a representation of status by vendor from the original dataset."
   ]
  },
  {
   "cell_type": "code",
   "execution_count": 25,
   "metadata": {
    "collapsed": false
   },
   "outputs": [
    {
     "name": "stderr",
     "output_type": "stream",
     "text": [
      "C:\\Users\\Nelson\\Anaconda3\\lib\\site-packages\\ggplot\\ggplot.py:602: FutureWarning: sort(columns=....) is deprecated, use sort_values(by=.....)\n",
      "  fill_levels = self.data[[fillcol_raw, fillcol]].sort(fillcol_raw)[fillcol].unique()\n"
     ]
    },
    {
     "data": {
      "image/png": "[encoded data removed]",
      "text/plain": [
       "<matplotlib.figure.Figure at 0x10f059e8>"
      ]
     },
     "metadata": {},
     "output_type": "display_data"
    },
    {
     "data": {
      "text/plain": [
       "<ggplot: (16477304)>"
      ]
     },
     "execution_count": 25,
     "metadata": {},
     "output_type": "execute_result"
    }
   ],
   "source": [
    "p1 = qplot(x = 'vendor', data = capgemdata, fill = 'status', geom = 'bar', main = \"Status by Vendor\", position = 'stack') +\\\n",
    "scale_fill_manual(values = ('red', 'green', 'yellow')) \n",
    "p1"
   ]
  },
  {
   "cell_type": "markdown",
   "metadata": {
    "collapsed": false
   },
   "source": [
    "### Next, we would like to compare the visualizations of our data with warning status's changed to running, and changed to down"
   ]
  },
  {
   "cell_type": "code",
   "execution_count": 40,
   "metadata": {
    "collapsed": false
   },
   "outputs": [
    {
     "name": "stderr",
     "output_type": "stream",
     "text": [
      "C:\\Users\\Nelson\\Anaconda3\\lib\\site-packages\\ggplot\\ggplot.py:602: FutureWarning: sort(columns=....) is deprecated, use sort_values(by=.....)\n",
      "  fill_levels = self.data[[fillcol_raw, fillcol]].sort(fillcol_raw)[fillcol].unique()\n"
     ]
    },
    {
     "data": {
      "image/png": "[encoded data removed]",
      "text/plain": [
       "<matplotlib.figure.Figure at 0x1127ff98>"
      ]
     },
     "metadata": {},
     "output_type": "display_data"
    },
    {
     "data": {
      "text/plain": [
       "<ggplot: (-9223372036842198440)>"
      ]
     },
     "execution_count": 40,
     "metadata": {},
     "output_type": "execute_result"
    }
   ],
   "source": [
    "capgemdata['status_2']= capgemdata.status.map({'Warning':'Running','Running':'Running','Down':'Down'})\n",
    "qplot(x = 'vendor', data = capgemdata, fill = 'status_2', geom = 'bar', main = \"Status by Vendor: warning as running\", position = 'stack') +\\\n",
    "scale_fill_manual(values = ('red', 'green'))"
   ]
  },
  {
   "cell_type": "code",
   "execution_count": 43,
   "metadata": {
    "collapsed": false
   },
   "outputs": [
    {
     "name": "stderr",
     "output_type": "stream",
     "text": [
      "C:\\Users\\Nelson\\Anaconda3\\lib\\site-packages\\ggplot\\ggplot.py:602: FutureWarning: sort(columns=....) is deprecated, use sort_values(by=.....)\n",
      "  fill_levels = self.data[[fillcol_raw, fillcol]].sort(fillcol_raw)[fillcol].unique()\n"
     ]
    },
    {
     "data": {
      "image/png": "[encoded data removed]",
      "text/plain": [
       "<matplotlib.figure.Figure at 0x14a01978>"
      ]
     },
     "metadata": {},
     "output_type": "display_data"
    },
    {
     "data": {
      "text/plain": [
       "<ggplot: (-9223372036842239074)>"
      ]
     },
     "execution_count": 43,
     "metadata": {},
     "output_type": "execute_result"
    }
   ],
   "source": [
    "qplot(x = 'vendor', data = cleanishdata, fill = 'status', geom = 'bar', main = \"Status by Vendor: warning as down\", position = 'stack') +\\\n",
    "scale_fill_manual(values = ('red', 'green'))"
   ]
  },
  {
   "cell_type": "markdown",
   "metadata": {},
   "source": [
    "# Classification Models"
   ]
  },
  {
   "cell_type": "markdown",
   "metadata": {},
   "source": [
    "### Here we have selected the knn method that we beleive is the best to predict whether a well is running or down. Because of the nature of knn using \"neighbors\" to make preditions, it made the most sense to our group to break the \"models\" down by attributes such as Vendor, Field, and Bock. After conducting several tests using varying numbers of nearest neighbors, we feel that we get the best results when we split the models up by vendor and use 7 nearest neighbors. \n",
    "### Below are the results for Vendor 1, 2, and 3.  "
   ]
  },
  {
   "cell_type": "code",
   "execution_count": 44,
   "metadata": {
    "collapsed": true
   },
   "outputs": [],
   "source": [
    "from sklearn import neighbors\n",
    "from sklearn.model_selection import train_test_split\n",
    "from sklearn.metrics import confusion_matrix\n",
    "\n",
    "attributes_columns = [\"depth\",\"water.cut\",\"daily.flow\",\"num.work.orders\",\"avg.maintenance.cost.monthly\",\"avg.uptime\",\n",
    "                      \"daily.production.variance\",\"Ti.C\",\"Pi.Psia\",\"Vx.g\", \"Vy.g\",\"Tm.C\",\"MOR.Ohm\",\"Lv.V\",\"perf.variance\"]\n",
    "labels = ['Running', 'Down']"
   ]
  },
  {
   "cell_type": "markdown",
   "metadata": {
    "collapsed": false
   },
   "source": [
    "#### Vendor 1: 96.49%"
   ]
  },
  {
   "cell_type": "code",
   "execution_count": 102,
   "metadata": {
    "collapsed": false
   },
   "outputs": [
    {
     "data": {
      "text/plain": [
       "0.90002576655501154"
      ]
     },
     "execution_count": 102,
     "metadata": {},
     "output_type": "execute_result"
    }
   ],
   "source": [
    "vendor1 = cleanishdata[cleanishdata[\"vendor\"] == \"Vendor 1\"]\n",
    "vendor1_train, vendor1_test = train_test_split(vendor1, test_size = 0.3)\n",
    "vendor1_attributes = vendor1_train[list(attributes_columns)].values\n",
    "vendor1_class_label = vendor1_train[\"status\"].values\n",
    "\n",
    "vendor1_Knn_model = neighbors.KNeighborsClassifier(n_neighbors = 7)\n",
    "vendor1_Knn_model.fit(vendor1_attributes, vendor1_class_label)\n",
    "\n",
    "vendor1_prediction = vendor1_Knn_model.predict(vendor1_test[attributes_columns])\n",
    "\n",
    "\n",
    "vendor1_accuracy_prediction = confusion_matrix(vendor1_test['status'],vendor1_prediction, labels)\n",
    "vendor1_accuracy_prediction.diagonal().sum().astype(int)/vendor1_accuracy_prediction.sum().astype(int)"
   ]
  },
  {
   "cell_type": "markdown",
   "metadata": {
    "collapsed": true
   },
   "source": [
    "#### Vendor 2: 95.62%"
   ]
  },
  {
   "cell_type": "code",
   "execution_count": 103,
   "metadata": {
    "collapsed": false
   },
   "outputs": [
    {
     "data": {
      "text/plain": [
       "0.89200743494423795"
      ]
     },
     "execution_count": 103,
     "metadata": {},
     "output_type": "execute_result"
    }
   ],
   "source": [
    "vendor2 = cleanishdata[cleanishdata[\"vendor\"] == \"Vendor 2\"]\n",
    "vendor2_train, vendor2_test = train_test_split(vendor2, test_size = 0.3)\n",
    "vendor2_attributes = vendor2_train[list(attributes_columns)].values\n",
    "vendor2_class_label = vendor2_train[\"status\"].values\n",
    "\n",
    "vendor2_Knn_model = neighbors.KNeighborsClassifier(n_neighbors = 7)\n",
    "vendor2_Knn_model.fit(vendor2_attributes, vendor2_class_label)\n",
    "\n",
    "vendor2_prediction = vendor2_Knn_model.predict(vendor2_test[attributes_columns])\n",
    "\n",
    "\n",
    "vendor2_accuracy_prediction = confusion_matrix(vendor2_test['status'],vendor2_prediction, labels)\n",
    "vendor2_accuracy_prediction.diagonal().sum().astype(int)/vendor2_accuracy_prediction.sum().astype(int)"
   ]
  },
  {
   "cell_type": "markdown",
   "metadata": {
    "collapsed": false
   },
   "source": [
    "#### Vendor 3: 87.77%"
   ]
  },
  {
   "cell_type": "code",
   "execution_count": 104,
   "metadata": {
    "collapsed": false
   },
   "outputs": [
    {
     "data": {
      "text/plain": [
       "0.77806691449814125"
      ]
     },
     "execution_count": 104,
     "metadata": {},
     "output_type": "execute_result"
    }
   ],
   "source": [
    "vendor3 = cleanishdata[cleanishdata[\"vendor\"] == \"Vendor 3\"]\n",
    "vendor3_train, vendor3_test = train_test_split(vendor3, test_size = 0.3)\n",
    "vendor3_attributes = vendor3_train[list(attributes_columns)].values\n",
    "vendor3_class_label = vendor3_train[\"status\"].values\n",
    "\n",
    "vendor3_Knn_model = neighbors.KNeighborsClassifier(n_neighbors = 7)\n",
    "vendor3_Knn_model.fit(vendor3_attributes, vendor3_class_label)\n",
    "\n",
    "vendor3_prediction = vendor3_Knn_model.predict(vendor3_test[attributes_columns])\n",
    "\n",
    "\n",
    "vendor3_accuracy_prediction = confusion_matrix(vendor3_test['status'],vendor3_prediction, labels)\n",
    "vendor3_accuracy_prediction.diagonal().sum().astype(int)/vendor3_accuracy_prediction.sum().astype(int)"
   ]
  },
  {
   "cell_type": "markdown",
   "metadata": {},
   "source": [
    "### Here we have the logistic regression model that performed the \"best\" predictions using the variables of depth, water cut, daily flow, number of work orders, average monthly maintenance cost (with outliers removed), average uptime, vertical and axial vibrations, and range of perforation values. \n",
    "#### This model yeilds 82.7% accuracy of predicting whether a well is running or not."
   ]
  },
  {
   "cell_type": "code",
   "execution_count": 46,
   "metadata": {
    "collapsed": true
   },
   "outputs": [],
   "source": [
    "from sklearn import linear_model"
   ]
  },
  {
   "cell_type": "code",
   "execution_count": 52,
   "metadata": {
    "collapsed": true
   },
   "outputs": [],
   "source": [
    "cleanishdata_train, cleanishdata_test = train_test_split(cleanishdata, test_size = 0.3)"
   ]
  },
  {
   "cell_type": "code",
   "execution_count": 53,
   "metadata": {
    "collapsed": true
   },
   "outputs": [],
   "source": [
    "my_logistic_model = linear_model.LogisticRegression()"
   ]
  },
  {
   "cell_type": "code",
   "execution_count": 56,
   "metadata": {
    "collapsed": true
   },
   "outputs": [],
   "source": [
    "attributes_columns = [\"depth\", \"water.cut\", \"daily.flow\", \"num.work.orders\",\"avg.maintenance.cost.monthly\",\n",
    "                      \"avg.uptime\", \"Vx.g\", \"Vy.g\", \"perf.variance\"]\n",
    "attributes = cleanishdata_train[list(attributes_columns)].values\n",
    "class_label = cleanishdata_train[\"status\"].values"
   ]
  },
  {
   "cell_type": "code",
   "execution_count": 57,
   "metadata": {
    "collapsed": false
   },
   "outputs": [
    {
     "data": {
      "text/plain": [
       "LogisticRegression(C=1.0, class_weight=None, dual=False, fit_intercept=True,\n",
       "          intercept_scaling=1, max_iter=100, multi_class='ovr', n_jobs=1,\n",
       "          penalty='l2', random_state=None, solver='liblinear', tol=0.0001,\n",
       "          verbose=0, warm_start=False)"
      ]
     },
     "execution_count": 57,
     "metadata": {},
     "output_type": "execute_result"
    }
   ],
   "source": [
    "my_logistic_model.fit(attributes, class_label)"
   ]
  },
  {
   "cell_type": "code",
   "execution_count": 58,
   "metadata": {
    "collapsed": true
   },
   "outputs": [],
   "source": [
    "prediction_glm = my_logistic_model.predict(cleanishdata_test[attributes_columns])"
   ]
  },
  {
   "cell_type": "code",
   "execution_count": 59,
   "metadata": {
    "collapsed": true
   },
   "outputs": [],
   "source": [
    "accuracy_array_glm = confusion_matrix(cleanishdata_test['status'], prediction_glm)"
   ]
  },
  {
   "cell_type": "code",
   "execution_count": 60,
   "metadata": {
    "collapsed": false
   },
   "outputs": [
    {
     "data": {
      "text/plain": [
       "0.82653061224489799"
      ]
     },
     "execution_count": 60,
     "metadata": {},
     "output_type": "execute_result"
    }
   ],
   "source": [
    "accuracy_array_glm.diagonal().sum().astype(int)/accuracy_array_glm.sum().astype(int)"
   ]
  },
  {
   "cell_type": "markdown",
   "metadata": {},
   "source": [
    "### Last, we have our decision tree models. We decided to simply enclose some plots of the \"better\" models created in R.\n",
    "#### Note: Due to the number of levels of ESP serial numbers, R creates aliases when representing these values in the tree. Below the plot is the summary of the tree which explains what variables these aliases are represening."
   ]
  },
  {
   "cell_type": "markdown",
   "metadata": {},
   "source": [
    "##### 87% accuracy "
   ]
  },
  {
   "cell_type": "code",
   "execution_count": 111,
   "metadata": {
    "collapsed": false
   },
   "outputs": [
    {
     "data": {
      "image/png": "[encoded data removed]",
      "text/plain": [
       "<IPython.core.display.Image object>"
      ]
     },
     "execution_count": 111,
     "metadata": {},
     "output_type": "execute_result"
    }
   ],
   "source": [
    "from IPython.display import Image\n",
    "Image(filename='dtree1.png')"
   ]
  },
  {
   "cell_type": "markdown",
   "metadata": {},
   "source": [
    "root 43216 39950.0 Running ( 0.17406 0.82594 )  \n",
    "   2) Vy.g < 35.1262 35008 25480.0 Running ( 0.11849 0.88151 )  \n",
    "     4) esp.sr.no: ESP004,ESP008,ESP011,ESP015,ESP023,ESP024,ESP025,ESP026,ESP027 10230 10330.0 Running ( 0.20332 0.79668 ) *\n",
    "     5) esp.sr.no: ESP001,ESP002,ESP003,ESP005,ESP006,ESP007,ESP009,ESP010,ESP012,ESP013,ESP014,ESP016,ESP017,ESP018,ESP019,ESP020,ESP021,ESP022,ESP028,ESP029,ESP030,ESP031 24778 14230.0 Running ( 0.08346 0.91654 )  \n",
    "      10) Vy.g < 30.3656 22488 11400.0 Running ( 0.06995 0.93005 ) *\n",
    "      11) Vy.g > 30.3656 2290  2391.0 Running ( 0.21616 0.78384 )  \n",
    "        22) Vx.g < 1428.28 1528   790.8 Running ( 0.07199 0.92801 ) *\n",
    "        23) Vx.g > 1428.28 762  1056.0 Down ( 0.50525 0.49475 )  \n",
    "          46) vendor: Vendor 1 460   481.7 Down ( 0.78261 0.21739 ) *\n",
    "          47) vendor: Vendor 2 302   172.4 Running ( 0.08278 0.91722 ) *\n",
    "   3) Vy.g > 35.1262 8208 11120.0 Running ( 0.41106 0.58894 )  \n",
    "     6) esp.sr.no: ESP001,ESP003,ESP005,ESP007,ESP012,ESP014,ESP017,ESP018,ESP020,ESP021,ESP022,ESP028,ESP029 3437  3845.0 Down ( 0.75269 0.24731 )  \n",
    "      12) Vx.g < 1009.91 281   269.2 Running ( 0.18505 0.81495 ) *\n",
    "      13) Vx.g > 1009.91 3156  3130.0 Down ( 0.80323 0.19677 ) *\n",
    "     7) esp.sr.no: ESP002,ESP004,ESP006,ESP008,ESP009,ESP010,ESP011,ESP013,ESP015,ESP016,ESP019,ESP023,ESP024,ESP025,ESP026,ESP027,ESP030,ESP031 4771  4273.0 Running ( 0.16495 0.83505 ) *"
   ]
  },
  {
   "cell_type": "markdown",
   "metadata": {},
   "source": [
    "#### The next decision tree model does not contain the ESP serial number. This model seems to favor the vendor. \n",
    "##### 87.8% accuracy"
   ]
  },
  {
   "cell_type": "code",
   "execution_count": 113,
   "metadata": {
    "collapsed": false
   },
   "outputs": [
    {
     "data": {
      "image/png": "[encoded data removed]",
      "text/plain": [
       "<IPython.core.display.Image object>"
      ]
     },
     "execution_count": 113,
     "metadata": {},
     "output_type": "execute_result"
    }
   ],
   "source": [
    "Image(filename='dtree2.png')"
   ]
  },
  {
   "cell_type": "markdown",
   "metadata": {},
   "source": [
    "1) root 43216 39950.0 Running ( 0.17406 0.82594 )  \n",
    "   2) Vy.g < 35.1262 35008 25480.0 Running ( 0.11849 0.88151 )  \n",
    "     4) vendor: Vendor 3 10230 10330.0 Running ( 0.20332 0.79668 ) *\n",
    "     5) vendor: Vendor 1,Vendor 2 24778 14230.0 Running ( 0.08346 0.91654 )  \n",
    "      10) Vy.g < 30.3656 22488 11400.0 Running ( 0.06995 0.93005 ) *\n",
    "      11) Vy.g > 30.3656 2290  2391.0 Running ( 0.21616 0.78384 )  \n",
    "        22) Vx.g < 1428.28 1528   790.8 Running ( 0.07199 0.92801 ) *\n",
    "        23) Vx.g > 1428.28 762  1056.0 Down ( 0.50525 0.49475 )  \n",
    "          46) vendor: Vendor 1 460   481.7 Down ( 0.78261 0.21739 ) *\n",
    "          47) vendor: Vendor 2 302   172.4 Running ( 0.08278 0.91722 ) *\n",
    "   3) Vy.g > 35.1262 8208 11120.0 Running ( 0.41106 0.58894 )  \n",
    "     6) vendor: Vendor 1 3437  3845.0 Down ( 0.75269 0.24731 )  \n",
    "      12) Vx.g < 1009.91 281   269.2 Running ( 0.18505 0.81495 ) *\n",
    "      13) Vx.g > 1009.91 3156  3130.0 Down ( 0.80323 0.19677 ) *\n",
    "     7) vendor: Vendor 2,Vendor 3 4771  4273.0 Running ( 0.16495 0.83505 ) *"
   ]
  },
  {
   "cell_type": "markdown",
   "metadata": {},
   "source": [
    "####  With both ESP and Vendor excluded from this tree model, block seems to play an important role\n",
    "##### 85.7% accuracy"
   ]
  },
  {
   "cell_type": "code",
   "execution_count": 115,
   "metadata": {
    "collapsed": false
   },
   "outputs": [
    {
     "data": {
      "image/png": "[encoded data removed]",
      "text/plain": [
       "<IPython.core.display.Image object>"
      ]
     },
     "execution_count": 115,
     "metadata": {},
     "output_type": "execute_result"
    }
   ],
   "source": [
    "Image(filename='dtree4.png')"
   ]
  },
  {
   "cell_type": "markdown",
   "metadata": {},
   "source": [
    "1) root 43216 39950.0 Running ( 0.1741 0.8259 )  \n",
    "   2) Vy.g < 35.1262 35008 25480.0 Running ( 0.1185 0.8815 ) *\n",
    "   3) Vy.g > 35.1262 8208 11120.0 Running ( 0.4111 0.5889 )  \n",
    "     6) block: C1 1350  1506.0 Down ( 0.7541 0.2459 ) *\n",
    "     7) block: A1,B1,B2,C3,D1,D9 6858  8824.0 Running ( 0.3435 0.6565 )  \n",
    "      14) perf: 1424-1480,1427-1479,1442 – 1492,1895- 1997 4491  6159.0 Running ( 0.4389 0.5611 )  \n",
    "        28) block: A1,B1,B2,C3 2615  3534.0 Down ( 0.5931 0.4069 ) *\n",
    "        29) block: D1,D9 1876  1995.0 Running ( 0.2239 0.7761 )  \n",
    "          58) depth < 2365 1618  1275.0 Running ( 0.1341 0.8659 ) *\n",
    "          59) depth > 2365 258   267.4 Down ( 0.7868 0.2132 ) *\n",
    "      15) perf: 1395- 1433,1418-1470 2367  2102.0 Running ( 0.1627 0.8373 ) *"
   ]
  },
  {
   "cell_type": "markdown",
   "metadata": {},
   "source": [
    "#### This model excludes ESP, Vendor, and Block.\n",
    "##### 84.7% accuracy"
   ]
  },
  {
   "cell_type": "code",
   "execution_count": 116,
   "metadata": {
    "collapsed": false
   },
   "outputs": [
    {
     "data": {
      "image/png": "[encoded data removed]",
      "text/plain": [
       "<IPython.core.display.Image object>"
      ]
     },
     "execution_count": 116,
     "metadata": {},
     "output_type": "execute_result"
    }
   ],
   "source": [
    "Image(filename='dtree5.png')"
   ]
  },
  {
   "cell_type": "markdown",
   "metadata": {},
   "source": [
    "1) root 43216 39950.0 Running ( 0.1741 0.8259 )  \n",
    "   2) Vy.g < 35.1262 35008 25480.0 Running ( 0.1185 0.8815 ) *\n",
    "   3) Vy.g > 35.1262 8208 11120.0 Running ( 0.4111 0.5889 )  \n",
    "     6) depth < 2365 7400  9766.0 Running ( 0.3718 0.6282 )  \n",
    "      12) perf: 1427-1479,1442 – 1492,1895- 1997 4252  5893.0 Running ( 0.4918 0.5082 )  \n",
    "        24) num.work.orders < 3.5 1051  1153.0 Down ( 0.7621 0.2379 ) *\n",
    "        25) num.work.orders > 3.5 3201  4316.0 Running ( 0.4030 0.5970 ) *\n",
    "      13) perf: 1395- 1433,1418-1470,1424-1480 3148  3233.0 Running ( 0.2097 0.7903 ) *\n",
    "     7) depth > 2365 808   869.4 Down ( 0.7710 0.2290 ) *"
   ]
  },
  {
   "cell_type": "markdown",
   "metadata": {},
   "source": [
    "#### This last decision tree model excludes ESP, Vendor, Perf, and Block. \n",
    "##### 83.5% accuracy"
   ]
  },
  {
   "cell_type": "code",
   "execution_count": 117,
   "metadata": {
    "collapsed": false
   },
   "outputs": [
    {
     "data": {
      "image/png": "[encoded data removed]",
      "text/plain": [
       "<IPython.core.display.Image object>"
      ]
     },
     "execution_count": 117,
     "metadata": {},
     "output_type": "execute_result"
    }
   ],
   "source": [
    "Image(filename='dtree5_guide.png')"
   ]
  },
  {
   "cell_type": "code",
   "execution_count": null,
   "metadata": {
    "collapsed": true
   },
   "outputs": [],
   "source": []
  }
 ],
 "metadata": {
  "anaconda-cloud": {},
  "kernelspec": {
   "display_name": "Python [conda root]",
   "language": "python",
   "name": "conda-root-py"
  },
  "language_info": {
   "codemirror_mode": {
    "name": "ipython",
    "version": 3
   },
   "file_extension": ".py",
   "mimetype": "text/x-python",
   "name": "python",
   "nbconvert_exporter": "python",
   "pygments_lexer": "ipython3",
   "version": "3.5.2"
  }
 },
 "nbformat": 4,
 "nbformat_minor": 1
}
